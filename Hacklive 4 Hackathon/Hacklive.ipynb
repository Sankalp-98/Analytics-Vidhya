{
  "nbformat": 4,
  "nbformat_minor": 0,
  "metadata": {
    "colab": {
      "name": "Hacklive.ipynb",
      "provenance": [],
      "collapsed_sections": []
    },
    "kernelspec": {
      "name": "python3",
      "display_name": "Python 3"
    },
    "accelerator": "GPU",
    "widgets": {
      "application/vnd.jupyter.widget-state+json": {
        "55a71ae909084d0db403f4a8e99a0c24": {
          "model_module": "@jupyter-widgets/controls",
          "model_name": "HBoxModel",
          "state": {
            "_view_name": "HBoxView",
            "_dom_classes": [],
            "_model_name": "HBoxModel",
            "_view_module": "@jupyter-widgets/controls",
            "_model_module_version": "1.5.0",
            "_view_count": null,
            "_view_module_version": "1.5.0",
            "box_style": "",
            "layout": "IPY_MODEL_3a6a15d7bf8a4bdca72d4f4668acb2e6",
            "_model_module": "@jupyter-widgets/controls",
            "children": [
              "IPY_MODEL_5f0400b6a43e44398a4c23e6c18edb13",
              "IPY_MODEL_3c529e0759704a6aa1a7726f516c55d3"
            ]
          }
        },
        "3a6a15d7bf8a4bdca72d4f4668acb2e6": {
          "model_module": "@jupyter-widgets/base",
          "model_name": "LayoutModel",
          "state": {
            "_view_name": "LayoutView",
            "grid_template_rows": null,
            "right": null,
            "justify_content": null,
            "_view_module": "@jupyter-widgets/base",
            "overflow": null,
            "_model_module_version": "1.2.0",
            "_view_count": null,
            "flex_flow": null,
            "width": null,
            "min_width": null,
            "border": null,
            "align_items": null,
            "bottom": null,
            "_model_module": "@jupyter-widgets/base",
            "top": null,
            "grid_column": null,
            "overflow_y": null,
            "overflow_x": null,
            "grid_auto_flow": null,
            "grid_area": null,
            "grid_template_columns": null,
            "flex": null,
            "_model_name": "LayoutModel",
            "justify_items": null,
            "grid_row": null,
            "max_height": null,
            "align_content": null,
            "visibility": null,
            "align_self": null,
            "height": null,
            "min_height": null,
            "padding": null,
            "grid_auto_rows": null,
            "grid_gap": null,
            "max_width": null,
            "order": null,
            "_view_module_version": "1.2.0",
            "grid_template_areas": null,
            "object_position": null,
            "object_fit": null,
            "grid_auto_columns": null,
            "margin": null,
            "display": null,
            "left": null
          }
        },
        "5f0400b6a43e44398a4c23e6c18edb13": {
          "model_module": "@jupyter-widgets/controls",
          "model_name": "FloatProgressModel",
          "state": {
            "_view_name": "ProgressView",
            "style": "IPY_MODEL_49d5659bc8854b5c91813f31912f869b",
            "_dom_classes": [],
            "description": "Optimization Progress: ",
            "_model_name": "FloatProgressModel",
            "bar_style": "",
            "max": 300,
            "_view_module": "@jupyter-widgets/controls",
            "_model_module_version": "1.5.0",
            "value": 300,
            "_view_count": null,
            "_view_module_version": "1.5.0",
            "orientation": "horizontal",
            "min": 0,
            "description_tooltip": null,
            "_model_module": "@jupyter-widgets/controls",
            "layout": "IPY_MODEL_f0a9f0eb397e47aca4ebe45539cda025"
          }
        },
        "3c529e0759704a6aa1a7726f516c55d3": {
          "model_module": "@jupyter-widgets/controls",
          "model_name": "HTMLModel",
          "state": {
            "_view_name": "HTMLView",
            "style": "IPY_MODEL_d742882a40b14fa79fd7efd6fe6ef7da",
            "_dom_classes": [],
            "description": "",
            "_model_name": "HTMLModel",
            "placeholder": "​",
            "_view_module": "@jupyter-widgets/controls",
            "_model_module_version": "1.5.0",
            "value": " 304/? [2:18:39&lt;00:00, 51.86s/pipeline]",
            "_view_count": null,
            "_view_module_version": "1.5.0",
            "description_tooltip": null,
            "_model_module": "@jupyter-widgets/controls",
            "layout": "IPY_MODEL_846aaad15f7d416699dd7f8655b0c468"
          }
        },
        "49d5659bc8854b5c91813f31912f869b": {
          "model_module": "@jupyter-widgets/controls",
          "model_name": "ProgressStyleModel",
          "state": {
            "_view_name": "StyleView",
            "_model_name": "ProgressStyleModel",
            "description_width": "initial",
            "_view_module": "@jupyter-widgets/base",
            "_model_module_version": "1.5.0",
            "_view_count": null,
            "_view_module_version": "1.2.0",
            "bar_color": null,
            "_model_module": "@jupyter-widgets/controls"
          }
        },
        "f0a9f0eb397e47aca4ebe45539cda025": {
          "model_module": "@jupyter-widgets/base",
          "model_name": "LayoutModel",
          "state": {
            "_view_name": "LayoutView",
            "grid_template_rows": null,
            "right": null,
            "justify_content": null,
            "_view_module": "@jupyter-widgets/base",
            "overflow": null,
            "_model_module_version": "1.2.0",
            "_view_count": null,
            "flex_flow": null,
            "width": null,
            "min_width": null,
            "border": null,
            "align_items": null,
            "bottom": null,
            "_model_module": "@jupyter-widgets/base",
            "top": null,
            "grid_column": null,
            "overflow_y": null,
            "overflow_x": null,
            "grid_auto_flow": null,
            "grid_area": null,
            "grid_template_columns": null,
            "flex": null,
            "_model_name": "LayoutModel",
            "justify_items": null,
            "grid_row": null,
            "max_height": null,
            "align_content": null,
            "visibility": null,
            "align_self": null,
            "height": null,
            "min_height": null,
            "padding": null,
            "grid_auto_rows": null,
            "grid_gap": null,
            "max_width": null,
            "order": null,
            "_view_module_version": "1.2.0",
            "grid_template_areas": null,
            "object_position": null,
            "object_fit": null,
            "grid_auto_columns": null,
            "margin": null,
            "display": null,
            "left": null
          }
        },
        "d742882a40b14fa79fd7efd6fe6ef7da": {
          "model_module": "@jupyter-widgets/controls",
          "model_name": "DescriptionStyleModel",
          "state": {
            "_view_name": "StyleView",
            "_model_name": "DescriptionStyleModel",
            "description_width": "",
            "_view_module": "@jupyter-widgets/base",
            "_model_module_version": "1.5.0",
            "_view_count": null,
            "_view_module_version": "1.2.0",
            "_model_module": "@jupyter-widgets/controls"
          }
        },
        "846aaad15f7d416699dd7f8655b0c468": {
          "model_module": "@jupyter-widgets/base",
          "model_name": "LayoutModel",
          "state": {
            "_view_name": "LayoutView",
            "grid_template_rows": null,
            "right": null,
            "justify_content": null,
            "_view_module": "@jupyter-widgets/base",
            "overflow": null,
            "_model_module_version": "1.2.0",
            "_view_count": null,
            "flex_flow": null,
            "width": null,
            "min_width": null,
            "border": null,
            "align_items": null,
            "bottom": null,
            "_model_module": "@jupyter-widgets/base",
            "top": null,
            "grid_column": null,
            "overflow_y": null,
            "overflow_x": null,
            "grid_auto_flow": null,
            "grid_area": null,
            "grid_template_columns": null,
            "flex": null,
            "_model_name": "LayoutModel",
            "justify_items": null,
            "grid_row": null,
            "max_height": null,
            "align_content": null,
            "visibility": null,
            "align_self": null,
            "height": null,
            "min_height": null,
            "padding": null,
            "grid_auto_rows": null,
            "grid_gap": null,
            "max_width": null,
            "order": null,
            "_view_module_version": "1.2.0",
            "grid_template_areas": null,
            "object_position": null,
            "object_fit": null,
            "grid_auto_columns": null,
            "margin": null,
            "display": null,
            "left": null
          }
        }
      }
    }
  },
  "cells": [
    {
      "cell_type": "code",
      "metadata": {
        "id": "JlKqRCE7Wdzq"
      },
      "source": [
        "import numpy as np\n",
        "import pandas as pd\n",
        "import matplotlib.pyplot as plt"
      ],
      "execution_count": 1,
      "outputs": []
    },
    {
      "cell_type": "code",
      "metadata": {
        "id": "VSOnUYkMWv2J",
        "outputId": "e841f8d0-86ab-4137-f575-85e504c97dc9",
        "colab": {
          "base_uri": "https://localhost:8080/",
          "height": 402
        }
      },
      "source": [
        "df_train=pd.read_csv('Train.csv')\n",
        "df_test=pd.read_csv('Test.csv')\n",
        "df_train"
      ],
      "execution_count": 2,
      "outputs": [
        {
          "output_type": "execute_result",
          "data": {
            "text/html": [
              "<div>\n",
              "<style scoped>\n",
              "    .dataframe tbody tr th:only-of-type {\n",
              "        vertical-align: middle;\n",
              "    }\n",
              "\n",
              "    .dataframe tbody tr th {\n",
              "        vertical-align: top;\n",
              "    }\n",
              "\n",
              "    .dataframe thead th {\n",
              "        text-align: right;\n",
              "    }\n",
              "</style>\n",
              "<table border=\"1\" class=\"dataframe\">\n",
              "  <thead>\n",
              "    <tr style=\"text-align: right;\">\n",
              "      <th></th>\n",
              "      <th>ID</th>\n",
              "      <th>stock</th>\n",
              "      <th>Date</th>\n",
              "      <th>Open</th>\n",
              "      <th>High</th>\n",
              "      <th>Low</th>\n",
              "      <th>Close</th>\n",
              "      <th>holiday</th>\n",
              "      <th>unpredictability_score</th>\n",
              "    </tr>\n",
              "  </thead>\n",
              "  <tbody>\n",
              "    <tr>\n",
              "      <th>0</th>\n",
              "      <td>id_0</td>\n",
              "      <td>0</td>\n",
              "      <td>2017-01-03</td>\n",
              "      <td>82.9961</td>\n",
              "      <td>82.7396</td>\n",
              "      <td>82.9144</td>\n",
              "      <td>82.8101</td>\n",
              "      <td>1</td>\n",
              "      <td>7</td>\n",
              "    </tr>\n",
              "    <tr>\n",
              "      <th>1</th>\n",
              "      <td>id_1</td>\n",
              "      <td>0</td>\n",
              "      <td>2017-01-04</td>\n",
              "      <td>83.1312</td>\n",
              "      <td>83.1669</td>\n",
              "      <td>83.3779</td>\n",
              "      <td>82.9690</td>\n",
              "      <td>0</td>\n",
              "      <td>7</td>\n",
              "    </tr>\n",
              "    <tr>\n",
              "      <th>2</th>\n",
              "      <td>id_2</td>\n",
              "      <td>0</td>\n",
              "      <td>2017-01-05</td>\n",
              "      <td>82.6622</td>\n",
              "      <td>82.7634</td>\n",
              "      <td>82.8984</td>\n",
              "      <td>82.8578</td>\n",
              "      <td>0</td>\n",
              "      <td>7</td>\n",
              "    </tr>\n",
              "    <tr>\n",
              "      <th>3</th>\n",
              "      <td>id_3</td>\n",
              "      <td>0</td>\n",
              "      <td>2017-01-06</td>\n",
              "      <td>83.0279</td>\n",
              "      <td>82.7950</td>\n",
              "      <td>82.8425</td>\n",
              "      <td>82.7385</td>\n",
              "      <td>0</td>\n",
              "      <td>7</td>\n",
              "    </tr>\n",
              "    <tr>\n",
              "      <th>4</th>\n",
              "      <td>id_4</td>\n",
              "      <td>0</td>\n",
              "      <td>2017-01-09</td>\n",
              "      <td>82.3761</td>\n",
              "      <td>82.0828</td>\n",
              "      <td>82.1473</td>\n",
              "      <td>81.8641</td>\n",
              "      <td>0</td>\n",
              "      <td>7</td>\n",
              "    </tr>\n",
              "    <tr>\n",
              "      <th>...</th>\n",
              "      <td>...</td>\n",
              "      <td>...</td>\n",
              "      <td>...</td>\n",
              "      <td>...</td>\n",
              "      <td>...</td>\n",
              "      <td>...</td>\n",
              "      <td>...</td>\n",
              "      <td>...</td>\n",
              "      <td>...</td>\n",
              "    </tr>\n",
              "    <tr>\n",
              "      <th>73434</th>\n",
              "      <td>id_77616</td>\n",
              "      <td>102</td>\n",
              "      <td>2019-10-25</td>\n",
              "      <td>129.7152</td>\n",
              "      <td>130.4687</td>\n",
              "      <td>130.7243</td>\n",
              "      <td>131.0068</td>\n",
              "      <td>0</td>\n",
              "      <td>6</td>\n",
              "    </tr>\n",
              "    <tr>\n",
              "      <th>73435</th>\n",
              "      <td>id_77617</td>\n",
              "      <td>102</td>\n",
              "      <td>2019-10-28</td>\n",
              "      <td>131.2933</td>\n",
              "      <td>131.5415</td>\n",
              "      <td>132.3108</td>\n",
              "      <td>131.8185</td>\n",
              "      <td>0</td>\n",
              "      <td>6</td>\n",
              "    </tr>\n",
              "    <tr>\n",
              "      <th>73436</th>\n",
              "      <td>id_77618</td>\n",
              "      <td>102</td>\n",
              "      <td>2019-10-29</td>\n",
              "      <td>131.1130</td>\n",
              "      <td>131.6313</td>\n",
              "      <td>131.7669</td>\n",
              "      <td>132.0440</td>\n",
              "      <td>0</td>\n",
              "      <td>6</td>\n",
              "    </tr>\n",
              "    <tr>\n",
              "      <th>73437</th>\n",
              "      <td>id_77619</td>\n",
              "      <td>102</td>\n",
              "      <td>2019-10-30</td>\n",
              "      <td>131.6991</td>\n",
              "      <td>131.0926</td>\n",
              "      <td>131.8122</td>\n",
              "      <td>131.6381</td>\n",
              "      <td>0</td>\n",
              "      <td>6</td>\n",
              "    </tr>\n",
              "    <tr>\n",
              "      <th>73438</th>\n",
              "      <td>id_77620</td>\n",
              "      <td>102</td>\n",
              "      <td>2019-10-31</td>\n",
              "      <td>131.2933</td>\n",
              "      <td>130.6886</td>\n",
              "      <td>130.9373</td>\n",
              "      <td>130.7362</td>\n",
              "      <td>0</td>\n",
              "      <td>6</td>\n",
              "    </tr>\n",
              "  </tbody>\n",
              "</table>\n",
              "<p>73439 rows × 9 columns</p>\n",
              "</div>"
            ],
            "text/plain": [
              "             ID  stock        Date  ...     Close  holiday  unpredictability_score\n",
              "0          id_0      0  2017-01-03  ...   82.8101        1                       7\n",
              "1          id_1      0  2017-01-04  ...   82.9690        0                       7\n",
              "2          id_2      0  2017-01-05  ...   82.8578        0                       7\n",
              "3          id_3      0  2017-01-06  ...   82.7385        0                       7\n",
              "4          id_4      0  2017-01-09  ...   81.8641        0                       7\n",
              "...         ...    ...         ...  ...       ...      ...                     ...\n",
              "73434  id_77616    102  2019-10-25  ...  131.0068        0                       6\n",
              "73435  id_77617    102  2019-10-28  ...  131.8185        0                       6\n",
              "73436  id_77618    102  2019-10-29  ...  132.0440        0                       6\n",
              "73437  id_77619    102  2019-10-30  ...  131.6381        0                       6\n",
              "73438  id_77620    102  2019-10-31  ...  130.7362        0                       6\n",
              "\n",
              "[73439 rows x 9 columns]"
            ]
          },
          "metadata": {
            "tags": []
          },
          "execution_count": 2
        }
      ]
    },
    {
      "cell_type": "code",
      "metadata": {
        "id": "r6XjR6eUWv5u",
        "outputId": "9f65a9a8-eb73-48e0-ef37-f82ee920a2da",
        "colab": {
          "base_uri": "https://localhost:8080/",
          "height": 402
        }
      },
      "source": [
        "df_train.drop(columns=['ID','Open','High','Low'],inplace=True)\n",
        "df_train"
      ],
      "execution_count": 3,
      "outputs": [
        {
          "output_type": "execute_result",
          "data": {
            "text/html": [
              "<div>\n",
              "<style scoped>\n",
              "    .dataframe tbody tr th:only-of-type {\n",
              "        vertical-align: middle;\n",
              "    }\n",
              "\n",
              "    .dataframe tbody tr th {\n",
              "        vertical-align: top;\n",
              "    }\n",
              "\n",
              "    .dataframe thead th {\n",
              "        text-align: right;\n",
              "    }\n",
              "</style>\n",
              "<table border=\"1\" class=\"dataframe\">\n",
              "  <thead>\n",
              "    <tr style=\"text-align: right;\">\n",
              "      <th></th>\n",
              "      <th>stock</th>\n",
              "      <th>Date</th>\n",
              "      <th>Close</th>\n",
              "      <th>holiday</th>\n",
              "      <th>unpredictability_score</th>\n",
              "    </tr>\n",
              "  </thead>\n",
              "  <tbody>\n",
              "    <tr>\n",
              "      <th>0</th>\n",
              "      <td>0</td>\n",
              "      <td>2017-01-03</td>\n",
              "      <td>82.8101</td>\n",
              "      <td>1</td>\n",
              "      <td>7</td>\n",
              "    </tr>\n",
              "    <tr>\n",
              "      <th>1</th>\n",
              "      <td>0</td>\n",
              "      <td>2017-01-04</td>\n",
              "      <td>82.9690</td>\n",
              "      <td>0</td>\n",
              "      <td>7</td>\n",
              "    </tr>\n",
              "    <tr>\n",
              "      <th>2</th>\n",
              "      <td>0</td>\n",
              "      <td>2017-01-05</td>\n",
              "      <td>82.8578</td>\n",
              "      <td>0</td>\n",
              "      <td>7</td>\n",
              "    </tr>\n",
              "    <tr>\n",
              "      <th>3</th>\n",
              "      <td>0</td>\n",
              "      <td>2017-01-06</td>\n",
              "      <td>82.7385</td>\n",
              "      <td>0</td>\n",
              "      <td>7</td>\n",
              "    </tr>\n",
              "    <tr>\n",
              "      <th>4</th>\n",
              "      <td>0</td>\n",
              "      <td>2017-01-09</td>\n",
              "      <td>81.8641</td>\n",
              "      <td>0</td>\n",
              "      <td>7</td>\n",
              "    </tr>\n",
              "    <tr>\n",
              "      <th>...</th>\n",
              "      <td>...</td>\n",
              "      <td>...</td>\n",
              "      <td>...</td>\n",
              "      <td>...</td>\n",
              "      <td>...</td>\n",
              "    </tr>\n",
              "    <tr>\n",
              "      <th>73434</th>\n",
              "      <td>102</td>\n",
              "      <td>2019-10-25</td>\n",
              "      <td>131.0068</td>\n",
              "      <td>0</td>\n",
              "      <td>6</td>\n",
              "    </tr>\n",
              "    <tr>\n",
              "      <th>73435</th>\n",
              "      <td>102</td>\n",
              "      <td>2019-10-28</td>\n",
              "      <td>131.8185</td>\n",
              "      <td>0</td>\n",
              "      <td>6</td>\n",
              "    </tr>\n",
              "    <tr>\n",
              "      <th>73436</th>\n",
              "      <td>102</td>\n",
              "      <td>2019-10-29</td>\n",
              "      <td>132.0440</td>\n",
              "      <td>0</td>\n",
              "      <td>6</td>\n",
              "    </tr>\n",
              "    <tr>\n",
              "      <th>73437</th>\n",
              "      <td>102</td>\n",
              "      <td>2019-10-30</td>\n",
              "      <td>131.6381</td>\n",
              "      <td>0</td>\n",
              "      <td>6</td>\n",
              "    </tr>\n",
              "    <tr>\n",
              "      <th>73438</th>\n",
              "      <td>102</td>\n",
              "      <td>2019-10-31</td>\n",
              "      <td>130.7362</td>\n",
              "      <td>0</td>\n",
              "      <td>6</td>\n",
              "    </tr>\n",
              "  </tbody>\n",
              "</table>\n",
              "<p>73439 rows × 5 columns</p>\n",
              "</div>"
            ],
            "text/plain": [
              "       stock        Date     Close  holiday  unpredictability_score\n",
              "0          0  2017-01-03   82.8101        1                       7\n",
              "1          0  2017-01-04   82.9690        0                       7\n",
              "2          0  2017-01-05   82.8578        0                       7\n",
              "3          0  2017-01-06   82.7385        0                       7\n",
              "4          0  2017-01-09   81.8641        0                       7\n",
              "...      ...         ...       ...      ...                     ...\n",
              "73434    102  2019-10-25  131.0068        0                       6\n",
              "73435    102  2019-10-28  131.8185        0                       6\n",
              "73436    102  2019-10-29  132.0440        0                       6\n",
              "73437    102  2019-10-30  131.6381        0                       6\n",
              "73438    102  2019-10-31  130.7362        0                       6\n",
              "\n",
              "[73439 rows x 5 columns]"
            ]
          },
          "metadata": {
            "tags": []
          },
          "execution_count": 3
        }
      ]
    },
    {
      "cell_type": "code",
      "metadata": {
        "id": "FfOYbYP3Wv8p"
      },
      "source": [
        "df_test.drop(columns=['ID'],inplace=True)"
      ],
      "execution_count": 4,
      "outputs": []
    },
    {
      "cell_type": "code",
      "metadata": {
        "id": "lRbaUOrwZQp2"
      },
      "source": [
        "df_train['Date']=pd.to_datetime(df_train['Date'])\n",
        "df_test['Date']=pd.to_datetime(df_test['Date'])\n"
      ],
      "execution_count": 5,
      "outputs": []
    },
    {
      "cell_type": "code",
      "metadata": {
        "id": "iY4_IgfpWwBm",
        "outputId": "791ee3cc-2e74-4509-892c-1e14e1646900",
        "colab": {
          "base_uri": "https://localhost:8080/",
          "height": 402
        }
      },
      "source": [
        "Year=[]\n",
        "Month=[]\n",
        "Day=[]\n",
        "for i in range(len(df_train)):\n",
        "    Year.append(df_train['Date'][i].year)\n",
        "    Month.append(df_train['Date'][i].month)\n",
        "    Day.append(df_train['Date'][i].day)\n",
        "df_train['Year']=Year\n",
        "df_train['Month']=Month\n",
        "df_train['Day']=Day\n",
        "\n",
        "df_train"
      ],
      "execution_count": 6,
      "outputs": [
        {
          "output_type": "execute_result",
          "data": {
            "text/html": [
              "<div>\n",
              "<style scoped>\n",
              "    .dataframe tbody tr th:only-of-type {\n",
              "        vertical-align: middle;\n",
              "    }\n",
              "\n",
              "    .dataframe tbody tr th {\n",
              "        vertical-align: top;\n",
              "    }\n",
              "\n",
              "    .dataframe thead th {\n",
              "        text-align: right;\n",
              "    }\n",
              "</style>\n",
              "<table border=\"1\" class=\"dataframe\">\n",
              "  <thead>\n",
              "    <tr style=\"text-align: right;\">\n",
              "      <th></th>\n",
              "      <th>stock</th>\n",
              "      <th>Date</th>\n",
              "      <th>Close</th>\n",
              "      <th>holiday</th>\n",
              "      <th>unpredictability_score</th>\n",
              "      <th>Year</th>\n",
              "      <th>Month</th>\n",
              "      <th>Day</th>\n",
              "    </tr>\n",
              "  </thead>\n",
              "  <tbody>\n",
              "    <tr>\n",
              "      <th>0</th>\n",
              "      <td>0</td>\n",
              "      <td>2017-01-03</td>\n",
              "      <td>82.8101</td>\n",
              "      <td>1</td>\n",
              "      <td>7</td>\n",
              "      <td>2017</td>\n",
              "      <td>1</td>\n",
              "      <td>3</td>\n",
              "    </tr>\n",
              "    <tr>\n",
              "      <th>1</th>\n",
              "      <td>0</td>\n",
              "      <td>2017-01-04</td>\n",
              "      <td>82.9690</td>\n",
              "      <td>0</td>\n",
              "      <td>7</td>\n",
              "      <td>2017</td>\n",
              "      <td>1</td>\n",
              "      <td>4</td>\n",
              "    </tr>\n",
              "    <tr>\n",
              "      <th>2</th>\n",
              "      <td>0</td>\n",
              "      <td>2017-01-05</td>\n",
              "      <td>82.8578</td>\n",
              "      <td>0</td>\n",
              "      <td>7</td>\n",
              "      <td>2017</td>\n",
              "      <td>1</td>\n",
              "      <td>5</td>\n",
              "    </tr>\n",
              "    <tr>\n",
              "      <th>3</th>\n",
              "      <td>0</td>\n",
              "      <td>2017-01-06</td>\n",
              "      <td>82.7385</td>\n",
              "      <td>0</td>\n",
              "      <td>7</td>\n",
              "      <td>2017</td>\n",
              "      <td>1</td>\n",
              "      <td>6</td>\n",
              "    </tr>\n",
              "    <tr>\n",
              "      <th>4</th>\n",
              "      <td>0</td>\n",
              "      <td>2017-01-09</td>\n",
              "      <td>81.8641</td>\n",
              "      <td>0</td>\n",
              "      <td>7</td>\n",
              "      <td>2017</td>\n",
              "      <td>1</td>\n",
              "      <td>9</td>\n",
              "    </tr>\n",
              "    <tr>\n",
              "      <th>...</th>\n",
              "      <td>...</td>\n",
              "      <td>...</td>\n",
              "      <td>...</td>\n",
              "      <td>...</td>\n",
              "      <td>...</td>\n",
              "      <td>...</td>\n",
              "      <td>...</td>\n",
              "      <td>...</td>\n",
              "    </tr>\n",
              "    <tr>\n",
              "      <th>73434</th>\n",
              "      <td>102</td>\n",
              "      <td>2019-10-25</td>\n",
              "      <td>131.0068</td>\n",
              "      <td>0</td>\n",
              "      <td>6</td>\n",
              "      <td>2019</td>\n",
              "      <td>10</td>\n",
              "      <td>25</td>\n",
              "    </tr>\n",
              "    <tr>\n",
              "      <th>73435</th>\n",
              "      <td>102</td>\n",
              "      <td>2019-10-28</td>\n",
              "      <td>131.8185</td>\n",
              "      <td>0</td>\n",
              "      <td>6</td>\n",
              "      <td>2019</td>\n",
              "      <td>10</td>\n",
              "      <td>28</td>\n",
              "    </tr>\n",
              "    <tr>\n",
              "      <th>73436</th>\n",
              "      <td>102</td>\n",
              "      <td>2019-10-29</td>\n",
              "      <td>132.0440</td>\n",
              "      <td>0</td>\n",
              "      <td>6</td>\n",
              "      <td>2019</td>\n",
              "      <td>10</td>\n",
              "      <td>29</td>\n",
              "    </tr>\n",
              "    <tr>\n",
              "      <th>73437</th>\n",
              "      <td>102</td>\n",
              "      <td>2019-10-30</td>\n",
              "      <td>131.6381</td>\n",
              "      <td>0</td>\n",
              "      <td>6</td>\n",
              "      <td>2019</td>\n",
              "      <td>10</td>\n",
              "      <td>30</td>\n",
              "    </tr>\n",
              "    <tr>\n",
              "      <th>73438</th>\n",
              "      <td>102</td>\n",
              "      <td>2019-10-31</td>\n",
              "      <td>130.7362</td>\n",
              "      <td>0</td>\n",
              "      <td>6</td>\n",
              "      <td>2019</td>\n",
              "      <td>10</td>\n",
              "      <td>31</td>\n",
              "    </tr>\n",
              "  </tbody>\n",
              "</table>\n",
              "<p>73439 rows × 8 columns</p>\n",
              "</div>"
            ],
            "text/plain": [
              "       stock       Date     Close  ...  Year  Month  Day\n",
              "0          0 2017-01-03   82.8101  ...  2017      1    3\n",
              "1          0 2017-01-04   82.9690  ...  2017      1    4\n",
              "2          0 2017-01-05   82.8578  ...  2017      1    5\n",
              "3          0 2017-01-06   82.7385  ...  2017      1    6\n",
              "4          0 2017-01-09   81.8641  ...  2017      1    9\n",
              "...      ...        ...       ...  ...   ...    ...  ...\n",
              "73434    102 2019-10-25  131.0068  ...  2019     10   25\n",
              "73435    102 2019-10-28  131.8185  ...  2019     10   28\n",
              "73436    102 2019-10-29  132.0440  ...  2019     10   29\n",
              "73437    102 2019-10-30  131.6381  ...  2019     10   30\n",
              "73438    102 2019-10-31  130.7362  ...  2019     10   31\n",
              "\n",
              "[73439 rows x 8 columns]"
            ]
          },
          "metadata": {
            "tags": []
          },
          "execution_count": 6
        }
      ]
    },
    {
      "cell_type": "code",
      "metadata": {
        "id": "5m5axxp7WwF6"
      },
      "source": [
        "df_train.drop(columns='Date',inplace=True)"
      ],
      "execution_count": 7,
      "outputs": []
    },
    {
      "cell_type": "code",
      "metadata": {
        "id": "SJQZmGGzZigu",
        "outputId": "a108d8ad-0d4e-4c26-ab81-17ce23d8c561",
        "colab": {
          "base_uri": "https://localhost:8080/",
          "height": 402
        }
      },
      "source": [
        "Year=[]\n",
        "Month=[]\n",
        "Day=[]\n",
        "for i in range(len(df_test)):\n",
        "    Year.append(df_test['Date'][i].year)\n",
        "    Month.append(df_test['Date'][i].month)\n",
        "    Day.append(df_test['Date'][i].day)\n",
        "df_test['Year']=Year\n",
        "df_test['Month']=Month\n",
        "df_test['Day']=Day\n",
        "\n",
        "df_test"
      ],
      "execution_count": 8,
      "outputs": [
        {
          "output_type": "execute_result",
          "data": {
            "text/html": [
              "<div>\n",
              "<style scoped>\n",
              "    .dataframe tbody tr th:only-of-type {\n",
              "        vertical-align: middle;\n",
              "    }\n",
              "\n",
              "    .dataframe tbody tr th {\n",
              "        vertical-align: top;\n",
              "    }\n",
              "\n",
              "    .dataframe thead th {\n",
              "        text-align: right;\n",
              "    }\n",
              "</style>\n",
              "<table border=\"1\" class=\"dataframe\">\n",
              "  <thead>\n",
              "    <tr style=\"text-align: right;\">\n",
              "      <th></th>\n",
              "      <th>stock</th>\n",
              "      <th>Date</th>\n",
              "      <th>holiday</th>\n",
              "      <th>unpredictability_score</th>\n",
              "      <th>Year</th>\n",
              "      <th>Month</th>\n",
              "      <th>Day</th>\n",
              "    </tr>\n",
              "  </thead>\n",
              "  <tbody>\n",
              "    <tr>\n",
              "      <th>0</th>\n",
              "      <td>0</td>\n",
              "      <td>2019-11-01</td>\n",
              "      <td>0</td>\n",
              "      <td>7</td>\n",
              "      <td>2019</td>\n",
              "      <td>11</td>\n",
              "      <td>1</td>\n",
              "    </tr>\n",
              "    <tr>\n",
              "      <th>1</th>\n",
              "      <td>0</td>\n",
              "      <td>2019-11-04</td>\n",
              "      <td>0</td>\n",
              "      <td>7</td>\n",
              "      <td>2019</td>\n",
              "      <td>11</td>\n",
              "      <td>4</td>\n",
              "    </tr>\n",
              "    <tr>\n",
              "      <th>2</th>\n",
              "      <td>0</td>\n",
              "      <td>2019-11-05</td>\n",
              "      <td>0</td>\n",
              "      <td>7</td>\n",
              "      <td>2019</td>\n",
              "      <td>11</td>\n",
              "      <td>5</td>\n",
              "    </tr>\n",
              "    <tr>\n",
              "      <th>3</th>\n",
              "      <td>0</td>\n",
              "      <td>2019-11-06</td>\n",
              "      <td>0</td>\n",
              "      <td>7</td>\n",
              "      <td>2019</td>\n",
              "      <td>11</td>\n",
              "      <td>6</td>\n",
              "    </tr>\n",
              "    <tr>\n",
              "      <th>4</th>\n",
              "      <td>0</td>\n",
              "      <td>2019-11-07</td>\n",
              "      <td>0</td>\n",
              "      <td>7</td>\n",
              "      <td>2019</td>\n",
              "      <td>11</td>\n",
              "      <td>7</td>\n",
              "    </tr>\n",
              "    <tr>\n",
              "      <th>...</th>\n",
              "      <td>...</td>\n",
              "      <td>...</td>\n",
              "      <td>...</td>\n",
              "      <td>...</td>\n",
              "      <td>...</td>\n",
              "      <td>...</td>\n",
              "      <td>...</td>\n",
              "    </tr>\n",
              "    <tr>\n",
              "      <th>4218</th>\n",
              "      <td>102</td>\n",
              "      <td>2019-12-24</td>\n",
              "      <td>0</td>\n",
              "      <td>6</td>\n",
              "      <td>2019</td>\n",
              "      <td>12</td>\n",
              "      <td>24</td>\n",
              "    </tr>\n",
              "    <tr>\n",
              "      <th>4219</th>\n",
              "      <td>102</td>\n",
              "      <td>2019-12-26</td>\n",
              "      <td>1</td>\n",
              "      <td>6</td>\n",
              "      <td>2019</td>\n",
              "      <td>12</td>\n",
              "      <td>26</td>\n",
              "    </tr>\n",
              "    <tr>\n",
              "      <th>4220</th>\n",
              "      <td>102</td>\n",
              "      <td>2019-12-27</td>\n",
              "      <td>0</td>\n",
              "      <td>6</td>\n",
              "      <td>2019</td>\n",
              "      <td>12</td>\n",
              "      <td>27</td>\n",
              "    </tr>\n",
              "    <tr>\n",
              "      <th>4221</th>\n",
              "      <td>102</td>\n",
              "      <td>2019-12-30</td>\n",
              "      <td>0</td>\n",
              "      <td>6</td>\n",
              "      <td>2019</td>\n",
              "      <td>12</td>\n",
              "      <td>30</td>\n",
              "    </tr>\n",
              "    <tr>\n",
              "      <th>4222</th>\n",
              "      <td>102</td>\n",
              "      <td>2019-12-31</td>\n",
              "      <td>0</td>\n",
              "      <td>6</td>\n",
              "      <td>2019</td>\n",
              "      <td>12</td>\n",
              "      <td>31</td>\n",
              "    </tr>\n",
              "  </tbody>\n",
              "</table>\n",
              "<p>4223 rows × 7 columns</p>\n",
              "</div>"
            ],
            "text/plain": [
              "      stock       Date  holiday  unpredictability_score  Year  Month  Day\n",
              "0         0 2019-11-01        0                       7  2019     11    1\n",
              "1         0 2019-11-04        0                       7  2019     11    4\n",
              "2         0 2019-11-05        0                       7  2019     11    5\n",
              "3         0 2019-11-06        0                       7  2019     11    6\n",
              "4         0 2019-11-07        0                       7  2019     11    7\n",
              "...     ...        ...      ...                     ...   ...    ...  ...\n",
              "4218    102 2019-12-24        0                       6  2019     12   24\n",
              "4219    102 2019-12-26        1                       6  2019     12   26\n",
              "4220    102 2019-12-27        0                       6  2019     12   27\n",
              "4221    102 2019-12-30        0                       6  2019     12   30\n",
              "4222    102 2019-12-31        0                       6  2019     12   31\n",
              "\n",
              "[4223 rows x 7 columns]"
            ]
          },
          "metadata": {
            "tags": []
          },
          "execution_count": 8
        }
      ]
    },
    {
      "cell_type": "code",
      "metadata": {
        "id": "9dUA7WktZij0"
      },
      "source": [
        "df_test.drop(columns='Date',inplace=True)"
      ],
      "execution_count": 9,
      "outputs": []
    },
    {
      "cell_type": "code",
      "metadata": {
        "id": "MMU9Nb1DZitT",
        "outputId": "19dd10b7-473c-4628-f89a-c7d1b3da569b",
        "colab": {
          "base_uri": "https://localhost:8080/",
          "height": 402
        }
      },
      "source": [
        "target=df_train['Close']\n",
        "df_train.drop(columns='Close',inplace=True)\n",
        "df_train"
      ],
      "execution_count": 10,
      "outputs": [
        {
          "output_type": "execute_result",
          "data": {
            "text/html": [
              "<div>\n",
              "<style scoped>\n",
              "    .dataframe tbody tr th:only-of-type {\n",
              "        vertical-align: middle;\n",
              "    }\n",
              "\n",
              "    .dataframe tbody tr th {\n",
              "        vertical-align: top;\n",
              "    }\n",
              "\n",
              "    .dataframe thead th {\n",
              "        text-align: right;\n",
              "    }\n",
              "</style>\n",
              "<table border=\"1\" class=\"dataframe\">\n",
              "  <thead>\n",
              "    <tr style=\"text-align: right;\">\n",
              "      <th></th>\n",
              "      <th>stock</th>\n",
              "      <th>holiday</th>\n",
              "      <th>unpredictability_score</th>\n",
              "      <th>Year</th>\n",
              "      <th>Month</th>\n",
              "      <th>Day</th>\n",
              "    </tr>\n",
              "  </thead>\n",
              "  <tbody>\n",
              "    <tr>\n",
              "      <th>0</th>\n",
              "      <td>0</td>\n",
              "      <td>1</td>\n",
              "      <td>7</td>\n",
              "      <td>2017</td>\n",
              "      <td>1</td>\n",
              "      <td>3</td>\n",
              "    </tr>\n",
              "    <tr>\n",
              "      <th>1</th>\n",
              "      <td>0</td>\n",
              "      <td>0</td>\n",
              "      <td>7</td>\n",
              "      <td>2017</td>\n",
              "      <td>1</td>\n",
              "      <td>4</td>\n",
              "    </tr>\n",
              "    <tr>\n",
              "      <th>2</th>\n",
              "      <td>0</td>\n",
              "      <td>0</td>\n",
              "      <td>7</td>\n",
              "      <td>2017</td>\n",
              "      <td>1</td>\n",
              "      <td>5</td>\n",
              "    </tr>\n",
              "    <tr>\n",
              "      <th>3</th>\n",
              "      <td>0</td>\n",
              "      <td>0</td>\n",
              "      <td>7</td>\n",
              "      <td>2017</td>\n",
              "      <td>1</td>\n",
              "      <td>6</td>\n",
              "    </tr>\n",
              "    <tr>\n",
              "      <th>4</th>\n",
              "      <td>0</td>\n",
              "      <td>0</td>\n",
              "      <td>7</td>\n",
              "      <td>2017</td>\n",
              "      <td>1</td>\n",
              "      <td>9</td>\n",
              "    </tr>\n",
              "    <tr>\n",
              "      <th>...</th>\n",
              "      <td>...</td>\n",
              "      <td>...</td>\n",
              "      <td>...</td>\n",
              "      <td>...</td>\n",
              "      <td>...</td>\n",
              "      <td>...</td>\n",
              "    </tr>\n",
              "    <tr>\n",
              "      <th>73434</th>\n",
              "      <td>102</td>\n",
              "      <td>0</td>\n",
              "      <td>6</td>\n",
              "      <td>2019</td>\n",
              "      <td>10</td>\n",
              "      <td>25</td>\n",
              "    </tr>\n",
              "    <tr>\n",
              "      <th>73435</th>\n",
              "      <td>102</td>\n",
              "      <td>0</td>\n",
              "      <td>6</td>\n",
              "      <td>2019</td>\n",
              "      <td>10</td>\n",
              "      <td>28</td>\n",
              "    </tr>\n",
              "    <tr>\n",
              "      <th>73436</th>\n",
              "      <td>102</td>\n",
              "      <td>0</td>\n",
              "      <td>6</td>\n",
              "      <td>2019</td>\n",
              "      <td>10</td>\n",
              "      <td>29</td>\n",
              "    </tr>\n",
              "    <tr>\n",
              "      <th>73437</th>\n",
              "      <td>102</td>\n",
              "      <td>0</td>\n",
              "      <td>6</td>\n",
              "      <td>2019</td>\n",
              "      <td>10</td>\n",
              "      <td>30</td>\n",
              "    </tr>\n",
              "    <tr>\n",
              "      <th>73438</th>\n",
              "      <td>102</td>\n",
              "      <td>0</td>\n",
              "      <td>6</td>\n",
              "      <td>2019</td>\n",
              "      <td>10</td>\n",
              "      <td>31</td>\n",
              "    </tr>\n",
              "  </tbody>\n",
              "</table>\n",
              "<p>73439 rows × 6 columns</p>\n",
              "</div>"
            ],
            "text/plain": [
              "       stock  holiday  unpredictability_score  Year  Month  Day\n",
              "0          0        1                       7  2017      1    3\n",
              "1          0        0                       7  2017      1    4\n",
              "2          0        0                       7  2017      1    5\n",
              "3          0        0                       7  2017      1    6\n",
              "4          0        0                       7  2017      1    9\n",
              "...      ...      ...                     ...   ...    ...  ...\n",
              "73434    102        0                       6  2019     10   25\n",
              "73435    102        0                       6  2019     10   28\n",
              "73436    102        0                       6  2019     10   29\n",
              "73437    102        0                       6  2019     10   30\n",
              "73438    102        0                       6  2019     10   31\n",
              "\n",
              "[73439 rows x 6 columns]"
            ]
          },
          "metadata": {
            "tags": []
          },
          "execution_count": 10
        }
      ]
    },
    {
      "cell_type": "code",
      "metadata": {
        "id": "qs1Twz0PZixq"
      },
      "source": [
        "from sklearn.preprocessing import StandardScaler\n",
        "sc=StandardScaler()"
      ],
      "execution_count": 11,
      "outputs": []
    },
    {
      "cell_type": "code",
      "metadata": {
        "id": "chwR1ySuZi1-"
      },
      "source": [
        "train_scaled=pd.DataFrame(sc.fit_transform(df_train))\n",
        "train_scaled.columns=df_train.columns\n",
        "train_scaled.index=df_train.index"
      ],
      "execution_count": 12,
      "outputs": []
    },
    {
      "cell_type": "code",
      "metadata": {
        "id": "aYI_X206ZjVU"
      },
      "source": [
        "X_test=pd.DataFrame(sc.fit_transform(df_test))\n",
        "X_test.columns=df_test.columns\n",
        "X_test.index=df_test.index"
      ],
      "execution_count": 13,
      "outputs": []
    },
    {
      "cell_type": "code",
      "metadata": {
        "id": "lsbSs2IKZjZM"
      },
      "source": [
        "from sklearn.model_selection import train_test_split"
      ],
      "execution_count": 14,
      "outputs": []
    },
    {
      "cell_type": "code",
      "metadata": {
        "id": "FHNjdYg4ZjcL"
      },
      "source": [
        "X_train,X_valid,y_train,y_valid=train_test_split(train_scaled,target,test_size=0.2,random_state=24)"
      ],
      "execution_count": 15,
      "outputs": []
    },
    {
      "cell_type": "code",
      "metadata": {
        "id": "WAEEnFoKZjfG"
      },
      "source": [
        ""
      ],
      "execution_count": null,
      "outputs": []
    },
    {
      "cell_type": "code",
      "metadata": {
        "id": "jv086XBPZiwl"
      },
      "source": [
        ""
      ],
      "execution_count": null,
      "outputs": []
    },
    {
      "cell_type": "code",
      "metadata": {
        "id": "H4Do1arKZirw"
      },
      "source": [
        ""
      ],
      "execution_count": null,
      "outputs": []
    },
    {
      "cell_type": "code",
      "metadata": {
        "id": "ucGKq0a0WwPb",
        "outputId": "fbb72376-e445-418a-f965-69f151bfb388",
        "colab": {
          "base_uri": "https://localhost:8080/"
        }
      },
      "source": [
        "pip install tpot"
      ],
      "execution_count": 16,
      "outputs": [
        {
          "output_type": "stream",
          "text": [
            "Collecting tpot\n",
            "\u001b[?25l  Downloading https://files.pythonhosted.org/packages/18/19/4e61af9cd13340167c7865bd55b29c2605058acb4c0aca438c45db75aa29/TPOT-0.11.6.post1-py3-none-any.whl (86kB)\n",
            "\r\u001b[K     |███▉                            | 10kB 8.8MB/s eta 0:00:01\r\u001b[K     |███████▋                        | 20kB 1.8MB/s eta 0:00:01\r\u001b[K     |███████████▍                    | 30kB 2.3MB/s eta 0:00:01\r\u001b[K     |███████████████▏                | 40kB 2.5MB/s eta 0:00:01\r\u001b[K     |███████████████████             | 51kB 2.1MB/s eta 0:00:01\r\u001b[K     |██████████████████████▉         | 61kB 2.3MB/s eta 0:00:01\r\u001b[K     |██████████████████████████▋     | 71kB 2.6MB/s eta 0:00:01\r\u001b[K     |██████████████████████████████▍ | 81kB 2.8MB/s eta 0:00:01\r\u001b[K     |████████████████████████████████| 92kB 2.5MB/s \n",
            "\u001b[?25hRequirement already satisfied: scikit-learn>=0.22.0 in /usr/local/lib/python3.6/dist-packages (from tpot) (0.22.2.post1)\n",
            "Collecting update-checker>=0.16\n",
            "  Downloading https://files.pythonhosted.org/packages/0c/ba/8dd7fa5f0b1c6a8ac62f8f57f7e794160c1f86f31c6d0fb00f582372a3e4/update_checker-0.18.0-py3-none-any.whl\n",
            "Requirement already satisfied: tqdm>=4.36.1 in /usr/local/lib/python3.6/dist-packages (from tpot) (4.41.1)\n",
            "Requirement already satisfied: pandas>=0.24.2 in /usr/local/lib/python3.6/dist-packages (from tpot) (1.1.4)\n",
            "Collecting stopit>=1.1.1\n",
            "  Downloading https://files.pythonhosted.org/packages/35/58/e8bb0b0fb05baf07bbac1450c447d753da65f9701f551dca79823ce15d50/stopit-1.1.2.tar.gz\n",
            "Requirement already satisfied: numpy>=1.16.3 in /usr/local/lib/python3.6/dist-packages (from tpot) (1.18.5)\n",
            "Requirement already satisfied: joblib>=0.13.2 in /usr/local/lib/python3.6/dist-packages (from tpot) (0.17.0)\n",
            "Collecting deap>=1.2\n",
            "\u001b[?25l  Downloading https://files.pythonhosted.org/packages/0a/eb/2bd0a32e3ce757fb26264765abbaedd6d4d3640d90219a513aeabd08ee2b/deap-1.3.1-cp36-cp36m-manylinux2010_x86_64.whl (157kB)\n",
            "\u001b[K     |████████████████████████████████| 163kB 8.8MB/s \n",
            "\u001b[?25hRequirement already satisfied: scipy>=1.3.1 in /usr/local/lib/python3.6/dist-packages (from tpot) (1.4.1)\n",
            "Requirement already satisfied: requests>=2.3.0 in /usr/local/lib/python3.6/dist-packages (from update-checker>=0.16->tpot) (2.23.0)\n",
            "Requirement already satisfied: python-dateutil>=2.7.3 in /usr/local/lib/python3.6/dist-packages (from pandas>=0.24.2->tpot) (2.8.1)\n",
            "Requirement already satisfied: pytz>=2017.2 in /usr/local/lib/python3.6/dist-packages (from pandas>=0.24.2->tpot) (2018.9)\n",
            "Requirement already satisfied: certifi>=2017.4.17 in /usr/local/lib/python3.6/dist-packages (from requests>=2.3.0->update-checker>=0.16->tpot) (2020.6.20)\n",
            "Requirement already satisfied: urllib3!=1.25.0,!=1.25.1,<1.26,>=1.21.1 in /usr/local/lib/python3.6/dist-packages (from requests>=2.3.0->update-checker>=0.16->tpot) (1.24.3)\n",
            "Requirement already satisfied: chardet<4,>=3.0.2 in /usr/local/lib/python3.6/dist-packages (from requests>=2.3.0->update-checker>=0.16->tpot) (3.0.4)\n",
            "Requirement already satisfied: idna<3,>=2.5 in /usr/local/lib/python3.6/dist-packages (from requests>=2.3.0->update-checker>=0.16->tpot) (2.10)\n",
            "Requirement already satisfied: six>=1.5 in /usr/local/lib/python3.6/dist-packages (from python-dateutil>=2.7.3->pandas>=0.24.2->tpot) (1.15.0)\n",
            "Building wheels for collected packages: stopit\n",
            "  Building wheel for stopit (setup.py) ... \u001b[?25l\u001b[?25hdone\n",
            "  Created wheel for stopit: filename=stopit-1.1.2-cp36-none-any.whl size=11956 sha256=a265b62eb60b4f1a89466a81623def828480ad44d21bf60bc2f4b726830c4773\n",
            "  Stored in directory: /root/.cache/pip/wheels/3c/85/2b/2580190404636bfc63e8de3dff629c03bb795021e1983a6cc7\n",
            "Successfully built stopit\n",
            "Installing collected packages: update-checker, stopit, deap, tpot\n",
            "Successfully installed deap-1.3.1 stopit-1.1.2 tpot-0.11.6.post1 update-checker-0.18.0\n"
          ],
          "name": "stdout"
        }
      ]
    },
    {
      "cell_type": "code",
      "metadata": {
        "id": "f1f7g5LnWwWB"
      },
      "source": [
        "from tpot import TPOTRegressor"
      ],
      "execution_count": 17,
      "outputs": []
    },
    {
      "cell_type": "code",
      "metadata": {
        "id": "VgqlncPuWwY7",
        "outputId": "0367587e-ee2f-43e4-dff3-8739e3cab9e5",
        "colab": {
          "base_uri": "https://localhost:8080/",
          "height": 371,
          "referenced_widgets": [
            "55a71ae909084d0db403f4a8e99a0c24",
            "3a6a15d7bf8a4bdca72d4f4668acb2e6",
            "5f0400b6a43e44398a4c23e6c18edb13",
            "3c529e0759704a6aa1a7726f516c55d3",
            "49d5659bc8854b5c91813f31912f869b",
            "f0a9f0eb397e47aca4ebe45539cda025",
            "d742882a40b14fa79fd7efd6fe6ef7da",
            "846aaad15f7d416699dd7f8655b0c468"
          ]
        }
      },
      "source": [
        "tpot=TPOTRegressor(generations=5,population_size=50,verbosity=2,random_state=42)\n",
        "tpot.fit(X_train,y_train)"
      ],
      "execution_count": 18,
      "outputs": [
        {
          "output_type": "display_data",
          "data": {
            "application/vnd.jupyter.widget-view+json": {
              "model_id": "55a71ae909084d0db403f4a8e99a0c24",
              "version_minor": 0,
              "version_major": 2
            },
            "text/plain": [
              "HBox(children=(FloatProgress(value=0.0, description='Optimization Progress', max=300.0, style=ProgressStyle(de…"
            ]
          },
          "metadata": {
            "tags": []
          }
        },
        {
          "output_type": "stream",
          "text": [
            "\r\n",
            "Generation 1 - Current best internal CV score: -3.188964407942682\n",
            "\n",
            "Generation 2 - Current best internal CV score: -3.188964407942682\n",
            "\n",
            "Generation 3 - Current best internal CV score: -3.188964407942682\n",
            "\n",
            "Generation 4 - Current best internal CV score: -3.128734720188596\n",
            "\n",
            "Generation 5 - Current best internal CV score: -2.1017783044989473\n",
            "\n",
            "Best pipeline: ExtraTreesRegressor(MinMaxScaler(GradientBoostingRegressor(input_matrix, alpha=0.99, learning_rate=0.5, loss=huber, max_depth=3, max_features=0.9000000000000001, min_samples_leaf=20, min_samples_split=13, n_estimators=100, subsample=0.9500000000000001)), bootstrap=False, max_features=0.9500000000000001, min_samples_leaf=4, min_samples_split=12, n_estimators=100)\n"
          ],
          "name": "stdout"
        },
        {
          "output_type": "execute_result",
          "data": {
            "text/plain": [
              "TPOTRegressor(config_dict=None, crossover_rate=0.1, cv=5,\n",
              "              disable_update_check=False, early_stop=None, generations=5,\n",
              "              log_file=None, max_eval_time_mins=5, max_time_mins=None,\n",
              "              memory=None, mutation_rate=0.9, n_jobs=1, offspring_size=None,\n",
              "              periodic_checkpoint_folder=None, population_size=50,\n",
              "              random_state=42, scoring=None, subsample=1.0, template=None,\n",
              "              use_dask=False, verbosity=2, warm_start=False)"
            ]
          },
          "metadata": {
            "tags": []
          },
          "execution_count": 18
        }
      ]
    },
    {
      "cell_type": "code",
      "metadata": {
        "id": "fG-EXYl9Wwgt",
        "outputId": "d320d2cf-f93a-45b4-aa3d-cc272ca8cc9a",
        "colab": {
          "base_uri": "https://localhost:8080/"
        }
      },
      "source": [
        "predict=tpot.predict(X_valid)\n",
        "predict"
      ],
      "execution_count": 19,
      "outputs": [
        {
          "output_type": "execute_result",
          "data": {
            "text/plain": [
              "array([ 67.05524271,  47.99381017, 127.4695457 , ...,  91.81683257,\n",
              "        45.03989891, 112.94037104])"
            ]
          },
          "metadata": {
            "tags": []
          },
          "execution_count": 19
        }
      ]
    },
    {
      "cell_type": "code",
      "metadata": {
        "id": "b3UOodV8Wwp_"
      },
      "source": [
        "from sklearn.metrics import mean_squared_error"
      ],
      "execution_count": 20,
      "outputs": []
    },
    {
      "cell_type": "code",
      "metadata": {
        "id": "5ZKWC6qGWwvN"
      },
      "source": [
        "from math import sqrt"
      ],
      "execution_count": 21,
      "outputs": []
    },
    {
      "cell_type": "code",
      "metadata": {
        "id": "WzjOW4lkWw0Y",
        "outputId": "c9f0bc33-9422-4f6b-e5c7-8a968c4185e2",
        "colab": {
          "base_uri": "https://localhost:8080/"
        }
      },
      "source": [
        "sqrt(mean_squared_error(predict,y_valid))"
      ],
      "execution_count": 22,
      "outputs": [
        {
          "output_type": "execute_result",
          "data": {
            "text/plain": [
              "1.3285834919094746"
            ]
          },
          "metadata": {
            "tags": []
          },
          "execution_count": 22
        }
      ]
    },
    {
      "cell_type": "code",
      "metadata": {
        "id": "z52EH9QNWw5a"
      },
      "source": [
        "submissions=pd.read_csv(\"SampleSubmission.csv\")"
      ],
      "execution_count": 23,
      "outputs": []
    },
    {
      "cell_type": "code",
      "metadata": {
        "id": "k08gujN7WxDb",
        "outputId": "ee89d908-8a21-40e4-da04-e5c7fa4f4367",
        "colab": {
          "base_uri": "https://localhost:8080/",
          "height": 402
        }
      },
      "source": [
        "submissions"
      ],
      "execution_count": 24,
      "outputs": [
        {
          "output_type": "execute_result",
          "data": {
            "text/html": [
              "<div>\n",
              "<style scoped>\n",
              "    .dataframe tbody tr th:only-of-type {\n",
              "        vertical-align: middle;\n",
              "    }\n",
              "\n",
              "    .dataframe tbody tr th {\n",
              "        vertical-align: top;\n",
              "    }\n",
              "\n",
              "    .dataframe thead th {\n",
              "        text-align: right;\n",
              "    }\n",
              "</style>\n",
              "<table border=\"1\" class=\"dataframe\">\n",
              "  <thead>\n",
              "    <tr style=\"text-align: right;\">\n",
              "      <th></th>\n",
              "      <th>ID</th>\n",
              "      <th>Close</th>\n",
              "    </tr>\n",
              "  </thead>\n",
              "  <tbody>\n",
              "    <tr>\n",
              "      <th>0</th>\n",
              "      <td>id_713</td>\n",
              "      <td>85</td>\n",
              "    </tr>\n",
              "    <tr>\n",
              "      <th>1</th>\n",
              "      <td>id_714</td>\n",
              "      <td>85</td>\n",
              "    </tr>\n",
              "    <tr>\n",
              "      <th>2</th>\n",
              "      <td>id_715</td>\n",
              "      <td>85</td>\n",
              "    </tr>\n",
              "    <tr>\n",
              "      <th>3</th>\n",
              "      <td>id_716</td>\n",
              "      <td>85</td>\n",
              "    </tr>\n",
              "    <tr>\n",
              "      <th>4</th>\n",
              "      <td>id_717</td>\n",
              "      <td>85</td>\n",
              "    </tr>\n",
              "    <tr>\n",
              "      <th>...</th>\n",
              "      <td>...</td>\n",
              "      <td>...</td>\n",
              "    </tr>\n",
              "    <tr>\n",
              "      <th>4218</th>\n",
              "      <td>id_77657</td>\n",
              "      <td>85</td>\n",
              "    </tr>\n",
              "    <tr>\n",
              "      <th>4219</th>\n",
              "      <td>id_77658</td>\n",
              "      <td>85</td>\n",
              "    </tr>\n",
              "    <tr>\n",
              "      <th>4220</th>\n",
              "      <td>id_77659</td>\n",
              "      <td>85</td>\n",
              "    </tr>\n",
              "    <tr>\n",
              "      <th>4221</th>\n",
              "      <td>id_77660</td>\n",
              "      <td>85</td>\n",
              "    </tr>\n",
              "    <tr>\n",
              "      <th>4222</th>\n",
              "      <td>id_77661</td>\n",
              "      <td>85</td>\n",
              "    </tr>\n",
              "  </tbody>\n",
              "</table>\n",
              "<p>4223 rows × 2 columns</p>\n",
              "</div>"
            ],
            "text/plain": [
              "            ID  Close\n",
              "0       id_713     85\n",
              "1       id_714     85\n",
              "2       id_715     85\n",
              "3       id_716     85\n",
              "4       id_717     85\n",
              "...        ...    ...\n",
              "4218  id_77657     85\n",
              "4219  id_77658     85\n",
              "4220  id_77659     85\n",
              "4221  id_77660     85\n",
              "4222  id_77661     85\n",
              "\n",
              "[4223 rows x 2 columns]"
            ]
          },
          "metadata": {
            "tags": []
          },
          "execution_count": 24
        }
      ]
    },
    {
      "cell_type": "code",
      "metadata": {
        "id": "5j10etsgWxKo"
      },
      "source": [
        "submissions[\"Close\"]=tpot.predict(X_test)"
      ],
      "execution_count": 25,
      "outputs": []
    },
    {
      "cell_type": "code",
      "metadata": {
        "id": "cWsHOYBiWxhH"
      },
      "source": [
        "submissions.to_csv(\"tpot.csv\",index=False)"
      ],
      "execution_count": 26,
      "outputs": []
    },
    {
      "cell_type": "code",
      "metadata": {
        "id": "zoIjpy37WxrN"
      },
      "source": [
        ""
      ],
      "execution_count": null,
      "outputs": []
    },
    {
      "cell_type": "code",
      "metadata": {
        "id": "d49ZP7-_Wxmu"
      },
      "source": [
        ""
      ],
      "execution_count": null,
      "outputs": []
    },
    {
      "cell_type": "code",
      "metadata": {
        "id": "An0Qn7ReWxlP"
      },
      "source": [
        ""
      ],
      "execution_count": null,
      "outputs": []
    },
    {
      "cell_type": "code",
      "metadata": {
        "id": "Kvl7j2zKWxey"
      },
      "source": [
        ""
      ],
      "execution_count": null,
      "outputs": []
    },
    {
      "cell_type": "code",
      "metadata": {
        "id": "sVyteqp9Wxcs"
      },
      "source": [
        ""
      ],
      "execution_count": null,
      "outputs": []
    },
    {
      "cell_type": "code",
      "metadata": {
        "id": "G8H0N-eTWxbM"
      },
      "source": [
        ""
      ],
      "execution_count": null,
      "outputs": []
    },
    {
      "cell_type": "code",
      "metadata": {
        "id": "9k-Zj0nEWxZz"
      },
      "source": [
        ""
      ],
      "execution_count": null,
      "outputs": []
    },
    {
      "cell_type": "code",
      "metadata": {
        "id": "RDwpDTJnWxYU"
      },
      "source": [
        ""
      ],
      "execution_count": null,
      "outputs": []
    },
    {
      "cell_type": "code",
      "metadata": {
        "id": "XpHhgOAJWxSf"
      },
      "source": [
        ""
      ],
      "execution_count": null,
      "outputs": []
    },
    {
      "cell_type": "code",
      "metadata": {
        "id": "UiJZV3CmWxQN"
      },
      "source": [
        ""
      ],
      "execution_count": null,
      "outputs": []
    },
    {
      "cell_type": "code",
      "metadata": {
        "id": "JTO65cwhWxOl"
      },
      "source": [
        ""
      ],
      "execution_count": null,
      "outputs": []
    },
    {
      "cell_type": "code",
      "metadata": {
        "id": "QoEDUH5uWxIi"
      },
      "source": [
        ""
      ],
      "execution_count": null,
      "outputs": []
    },
    {
      "cell_type": "code",
      "metadata": {
        "id": "9gZUnwBJWxG_"
      },
      "source": [
        ""
      ],
      "execution_count": null,
      "outputs": []
    },
    {
      "cell_type": "code",
      "metadata": {
        "id": "V9pdeq3tWxBa"
      },
      "source": [
        ""
      ],
      "execution_count": null,
      "outputs": []
    },
    {
      "cell_type": "code",
      "metadata": {
        "id": "K9ntBNLQWw_Z"
      },
      "source": [
        ""
      ],
      "execution_count": null,
      "outputs": []
    },
    {
      "cell_type": "code",
      "metadata": {
        "id": "PzDKly-JWw9m"
      },
      "source": [
        ""
      ],
      "execution_count": null,
      "outputs": []
    },
    {
      "cell_type": "code",
      "metadata": {
        "id": "jU3U5WX5Ww3q"
      },
      "source": [
        ""
      ],
      "execution_count": null,
      "outputs": []
    },
    {
      "cell_type": "code",
      "metadata": {
        "id": "om3FWso-WwzF"
      },
      "source": [
        ""
      ],
      "execution_count": null,
      "outputs": []
    },
    {
      "cell_type": "code",
      "metadata": {
        "id": "vML8JK4RWwtj"
      },
      "source": [
        ""
      ],
      "execution_count": null,
      "outputs": []
    },
    {
      "cell_type": "code",
      "metadata": {
        "id": "GW7yo3GHWwnm"
      },
      "source": [
        ""
      ],
      "execution_count": null,
      "outputs": []
    },
    {
      "cell_type": "code",
      "metadata": {
        "id": "rG_RMoNOWwl4"
      },
      "source": [
        ""
      ],
      "execution_count": null,
      "outputs": []
    },
    {
      "cell_type": "code",
      "metadata": {
        "id": "TveKIutzWwkO"
      },
      "source": [
        ""
      ],
      "execution_count": null,
      "outputs": []
    },
    {
      "cell_type": "code",
      "metadata": {
        "id": "4Zg9-xZEWwbn"
      },
      "source": [
        ""
      ],
      "execution_count": null,
      "outputs": []
    },
    {
      "cell_type": "code",
      "metadata": {
        "id": "8wmG474nWwUc"
      },
      "source": [
        ""
      ],
      "execution_count": null,
      "outputs": []
    },
    {
      "cell_type": "code",
      "metadata": {
        "id": "TzUyoY8EWwJ4"
      },
      "source": [
        ""
      ],
      "execution_count": null,
      "outputs": []
    },
    {
      "cell_type": "code",
      "metadata": {
        "id": "kJU4Vss8WwEH"
      },
      "source": [
        ""
      ],
      "execution_count": null,
      "outputs": []
    }
  ]
}